{
 "cells": [
  {
   "cell_type": "markdown",
   "metadata": {},
   "source": [
    "## CSE 144 Applied Machine Learning Final Project Ensemble\n",
    "\n",
    "The objective of this project is to predict labels for a given image dataset. Each team member trained a different model and obtained the label probability. \n",
    "\n",
    "In this notebook, we will combine all of them through ensemble methods to generate the final predictions."
   ]
  },
  {
   "cell_type": "code",
   "execution_count": 1,
   "metadata": {},
   "outputs": [],
   "source": [
    "import pandas as pd"
   ]
  },
  {
   "cell_type": "code",
   "execution_count": 4,
   "metadata": {},
   "outputs": [],
   "source": [
    "# Load the probability \n",
    "# Please change the path if it's needed\n",
    "resnet_prob_df = pd.read_csv(\"../../data/processed/resnet152outputs_original.csv\")\n",
    "swin_b_prob_df = pd.read_csv(\"../../data/processed/swin_b_output_other.csv\")\n",
    "vit_prob_df = pd.read_csv(\"../../data/processed/vit_h14_output_original.csv\")\n",
    "\n",
    "resnet_prob = resnet_prob_df.iloc[:, 2:]\n",
    "swin_b_prob = swin_b_prob_df.iloc[:, 1:]\n",
    "vit_prob = vit_prob_df.iloc[:, 1:]\n",
    "\n",
    "# Check the shape of the probability\n",
    "assert resnet_prob.shape == (1036, 100)\n",
    "assert swin_b_prob.shape == (1036, 100)\n",
    "assert vit_prob.shape == (1036, 100)\n",
    "\n",
    "# Ensemble\n",
    "emsemble_prob = 1/8 * swin_b_prob + 1/8 * resnet_prob + 6/8 * vit_prob"
   ]
  },
  {
   "cell_type": "code",
   "execution_count": 5,
   "metadata": {},
   "outputs": [
    {
     "data": {
      "text/html": [
       "<div>\n",
       "<style scoped>\n",
       "    .dataframe tbody tr th:only-of-type {\n",
       "        vertical-align: middle;\n",
       "    }\n",
       "\n",
       "    .dataframe tbody tr th {\n",
       "        vertical-align: top;\n",
       "    }\n",
       "\n",
       "    .dataframe thead th {\n",
       "        text-align: right;\n",
       "    }\n",
       "</style>\n",
       "<table border=\"1\" class=\"dataframe\">\n",
       "  <thead>\n",
       "    <tr style=\"text-align: right;\">\n",
       "      <th></th>\n",
       "      <th>ID</th>\n",
       "      <th>Label</th>\n",
       "    </tr>\n",
       "  </thead>\n",
       "  <tbody>\n",
       "    <tr>\n",
       "      <th>0</th>\n",
       "      <td>0.jpg</td>\n",
       "      <td>62</td>\n",
       "    </tr>\n",
       "    <tr>\n",
       "      <th>1</th>\n",
       "      <td>1.jpg</td>\n",
       "      <td>43</td>\n",
       "    </tr>\n",
       "    <tr>\n",
       "      <th>2</th>\n",
       "      <td>2.jpg</td>\n",
       "      <td>38</td>\n",
       "    </tr>\n",
       "    <tr>\n",
       "      <th>3</th>\n",
       "      <td>3.jpg</td>\n",
       "      <td>51</td>\n",
       "    </tr>\n",
       "    <tr>\n",
       "      <th>4</th>\n",
       "      <td>4.jpg</td>\n",
       "      <td>42</td>\n",
       "    </tr>\n",
       "    <tr>\n",
       "      <th>...</th>\n",
       "      <td>...</td>\n",
       "      <td>...</td>\n",
       "    </tr>\n",
       "    <tr>\n",
       "      <th>1031</th>\n",
       "      <td>1031.jpg</td>\n",
       "      <td>31</td>\n",
       "    </tr>\n",
       "    <tr>\n",
       "      <th>1032</th>\n",
       "      <td>1032.jpg</td>\n",
       "      <td>2</td>\n",
       "    </tr>\n",
       "    <tr>\n",
       "      <th>1033</th>\n",
       "      <td>1033.jpg</td>\n",
       "      <td>18</td>\n",
       "    </tr>\n",
       "    <tr>\n",
       "      <th>1034</th>\n",
       "      <td>1034.jpg</td>\n",
       "      <td>77</td>\n",
       "    </tr>\n",
       "    <tr>\n",
       "      <th>1035</th>\n",
       "      <td>1035.jpg</td>\n",
       "      <td>59</td>\n",
       "    </tr>\n",
       "  </tbody>\n",
       "</table>\n",
       "<p>1036 rows × 2 columns</p>\n",
       "</div>"
      ],
      "text/plain": [
       "            ID Label\n",
       "0        0.jpg    62\n",
       "1        1.jpg    43\n",
       "2        2.jpg    38\n",
       "3        3.jpg    51\n",
       "4        4.jpg    42\n",
       "...        ...   ...\n",
       "1031  1031.jpg    31\n",
       "1032  1032.jpg     2\n",
       "1033  1033.jpg    18\n",
       "1034  1034.jpg    77\n",
       "1035  1035.jpg    59\n",
       "\n",
       "[1036 rows x 2 columns]"
      ]
     },
     "execution_count": 5,
     "metadata": {},
     "output_type": "execute_result"
    }
   ],
   "source": [
    "# Save the predictions\n",
    "submit = pd.read_csv('../../data/raw/sample_submission.csv')\n",
    "submit['Label'] = emsemble_prob.idxmax(axis=1)\n",
    "submit.to_csv(\"../../data/result/result.csv\", index=False)\n",
    "submit"
   ]
  },
  {
   "cell_type": "code",
   "execution_count": null,
   "metadata": {},
   "outputs": [],
   "source": []
  }
 ],
 "metadata": {
  "kernelspec": {
   "display_name": "torch-junya",
   "language": "python",
   "name": "python3"
  },
  "language_info": {
   "codemirror_mode": {
    "name": "ipython",
    "version": 3
   },
   "file_extension": ".py",
   "mimetype": "text/x-python",
   "name": "python",
   "nbconvert_exporter": "python",
   "pygments_lexer": "ipython3",
   "version": "3.9.7"
  }
 },
 "nbformat": 4,
 "nbformat_minor": 2
}
