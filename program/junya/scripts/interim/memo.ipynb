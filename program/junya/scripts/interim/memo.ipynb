{
 "cells": [
  {
   "cell_type": "code",
   "execution_count": null,
   "metadata": {},
   "outputs": [],
   "source": [
    "# CNN\n",
    "# Assuming you have defined the 'device' variable\n",
    "device = torch.device(\"cuda\" if torch.cuda.is_available() else \"cpu\")\n",
    "cnn = network.SimpleCNN().to(device)\n",
    "\n",
    "## Perform a forward pass with a dummy input\n",
    "cnn1 = network.SimpleCNN(check_size=True)\n",
    "input_size = (3, image_size, image_size)  # Adjust these values based on your actual input size\n",
    "out = cnn1.forward(torch.zeros(batch_size, *input_size))\n",
    "\n",
    "\n",
    "criterion = nn.CrossEntropyLoss()\n",
    "optimizer = optim.SGD(cnn.parameters(), lr=0.01, momentum=0.9)\n",
    "function.train_loop(cnn, train_loader, val_loader, criterion, optimizer, device)"
   ]
  },
  {
   "cell_type": "code",
   "execution_count": null,
   "metadata": {},
   "outputs": [],
   "source": [
    "# SEResNet\n",
    "reload(network)\n",
    "torch.cuda.empty_cache()\n",
    "seresnet = network.se_resnet20().to(device)\n",
    "\n",
    "criterion = nn.CrossEntropyLoss()\n",
    "optimizer = optim.SGD(seresnet.parameters(), lr=0.01, momentum=0.9)\n",
    "function.train_loop(seresnet, train_loader, val_loader, criterion, optimizer, device)\n"
   ]
  },
  {
   "cell_type": "code",
   "execution_count": null,
   "metadata": {},
   "outputs": [],
   "source": [
    "# Save the predictions\n",
    "submit = pd.read_csv('../data/raw/sample_submission.csv')\n",
    "submit['Label'] = y_pred['Label']\n",
    "submit.to_csv(\"../data/result/result.csv\", index=False)\n",
    "submit"
   ]
  }
 ],
 "metadata": {
  "language_info": {
   "name": "python"
  }
 },
 "nbformat": 4,
 "nbformat_minor": 2
}
